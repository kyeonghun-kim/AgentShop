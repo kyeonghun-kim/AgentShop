{
 "cells": [
  {
   "cell_type": "code",
   "execution_count": 6,
   "metadata": {},
   "outputs": [
    {
     "data": {
      "text/plain": [
       "True"
      ]
     },
     "execution_count": 6,
     "metadata": {},
     "output_type": "execute_result"
    }
   ],
   "source": [
    "from crawl4ai import (\n",
    "    AsyncWebCrawler,\n",
    "    BrowserConfig,\n",
    "    CrawlerRunConfig,\n",
    "    CacheMode,\n",
    "    LLMConfig,\n",
    ")\n",
    "from crawl4ai.extraction_strategy import LLMExtractionStrategy\n",
    "from typing import List, TypedDict\n",
    "from pydantic import BaseModel, Field, create_model\n",
    "import json\n",
    "from langchain_openai import ChatOpenAI\n",
    "from dotenv import load_dotenv\n",
    "import nest_asyncio\n",
    "import asyncio\n",
    "import os\n",
    "\n",
    "nest_asyncio.apply()\n",
    "load_dotenv(dotenv_path=\".env\")"
   ]
  },
  {
   "cell_type": "code",
   "execution_count": null,
   "metadata": {},
   "outputs": [
    {
     "name": "stderr",
     "output_type": "stream",
     "text": [
      "/var/folders/3g/rzddny917kq4pymbw_ts10f00000gn/T/ipykernel_2829/2490078773.py:12: PydanticDeprecatedSince20: The `schema_json` method is deprecated; use `model_json_schema` and json.dumps instead. Deprecated in Pydantic V2.0 to be removed in V3.0. See Pydantic V2 Migration Guide at https://errors.pydantic.dev/2.10/migration/\n",
      "  schema=Product.schema_json(),  # Or use model_json_schema()\n"
     ]
    },
    {
     "name": "stdout",
     "output_type": "stream",
     "text": [
      "[INIT].... → Crawl4AI 0.5.0.post4\n",
      "[FETCH]... ↓ https://www.coupang.com/np/categories/420186... | Status: True | Time: 3.95s\n",
      "[SCRAPE].. ◆ https://www.coupang.com/np/categories/420186... | Time: 0.377s\n",
      "[EXTRACT]. ■ Completed for https://www.coupang.com/np/categories/420186... | Time: 32.43773270800011s\n",
      "[COMPLETE] ● https://www.coupang.com/np/categories/420186... | Status: True | Total: 36.77s\n",
      "Extracted items: [{'product_name': '보수용품', 'price': '..'}, {'product_name': '공구/자재', 'price': '..'}, {'product_name': '인테리어소품', 'price': '..'}, {'product_name': '인테리어도서', 'price': '..'}, {'product_name': '건전지/멀티탭', 'price': '..'}, {'product_name': '공구/철물/DIY', 'price': '..'}, {'product_name': '전동/정밀공구', 'price': '..'}, {'product_name': '수공구/절단도구', 'price': '..'}, {'product_name': '공구함', 'price': '..'}, {'product_name': '측정/측량도구', 'price': '..'}, {'product_name': '배관/건축자재', 'price': '..'}, {'product_name': '사다리/운반용품', 'price': '..'}, {'product_name': '모터/에어공구', 'price': '..'}, {'product_name': '나사/못/체결도구', 'price': '..'}, {'product_name': '접착/보수용품', 'price': '..'}, {'product_name': '토치/용접공구', 'price': '..'}, {'product_name': '페인트/도구', 'price': '..'}, {'product_name': '생활전기용품', 'price': '..'}, {'product_name': '멀티탭/연장선', 'price': '..'}, {'product_name': '전구/램프', 'price': '..'}, {'product_name': '조명기구/부속', 'price': '..'}, {'product_name': '건전지/배터리', 'price': '..'}, {'product_name': '더보기', 'price': '..'}, {'product_name': '홈인테리어', 'price': '..'}, {'product_name': '가전디지털', 'price': '..'}, {'product_name': 'TV/영상가전', 'price': '..'}, {'product_name': 'TV', 'price': '..'}, {'product_name': '미러링/스트리밍', 'price': '..'}, {'product_name': 'TV 액세서리', 'price': '..'}, {'product_name': '블루레이/DVD/DivX', 'price': '..'}, {'product_name': '빔/프로젝터/스크린', 'price': '..'}, {'product_name': '냉장고', 'price': '..'}, {'product_name': '3/4도어냉장고', 'price': '..'}, {'product_name': '2도어 냉장고', 'price': '..'}, {'product_name': '설향 딸기 대과, 500g, 1개', 'price': '6,570 원', 'error': False}, {'product_name': '설향 딸기 중과, 500g, 1팩', 'price': '5,180 원', 'error': False}, {'product_name': '돌 스위티오 바나나, 1kg 내외, 1개', 'price': '4,560 원', 'error': False}, {'product_name': '패션의류/잡화', 'price': 'N/A', 'error': False}, {'product_name': '뷰티', 'price': 'N/A', 'error': False}, {'product_name': '출산/유아동', 'price': 'N/A', 'error': False}, {'product_name': '식품', 'price': 'N/A', 'error': False}, {'product_name': '주방용품', 'price': 'N/A', 'error': False}, {'product_name': '생활용품', 'price': 'N/A', 'error': False}, {'product_name': '홈인테리어', 'price': 'N/A', 'error': False}, {'product_name': '가전', 'price': 'N/A', 'error': False}, {'product_name': '디지털', 'price': 'N/A', 'error': False}, {'product_name': '스포츠/레저', 'price': 'N/A', 'error': False}, {'product_name': '자동차용품', 'price': 'N/A', 'error': False}, {'product_name': '도서/음반/DVD', 'price': 'N/A', 'error': False}, {'product_name': '완구/취미', 'price': 'N/A', 'error': False}, {'product_name': '문구/오피스', 'price': 'N/A', 'error': False}, {'product_name': '반려동물용품', 'price': 'N/A', 'error': False}, {'product_name': '헬스/건강식품', 'price': 'N/A', 'error': False}, {'product_name': '국내여행', 'price': 'N/A', 'error': False}, {'product_name': '해외여행', 'price': 'N/A', 'error': False}, {'product_name': 'R.LUX', 'price': 'N/A', 'error': False}, {'product_name': '로켓설치', 'price': 'N/A', 'error': False}, {'product_name': '쿠팡 프리미엄', 'price': 'N/A', 'error': False}, {'product_name': '공간별 집꾸미기', 'price': 'N/A', 'error': False}, {'product_name': '헬스케어 전문관', 'price': 'N/A', 'error': False}, {'product_name': '쿠팡 Only', 'price': 'N/A', 'error': False}, {'product_name': '싱글라이프', 'price': 'N/A', 'error': False}, {'product_name': '악기전문관', 'price': 'N/A', 'error': False}, {'product_name': '결혼준비', 'price': 'N/A', 'error': False}, {'product_name': '아트/공예', 'price': 'N/A', 'error': False}, {'product_name': '미세먼지용품', 'price': 'N/A', 'error': False}, {'product_name': '홈카페', 'price': 'N/A', 'error': False}, {'product_name': '실버스토어', 'price': 'N/A', 'error': False}, {'product_name': '로켓펫닥터', 'price': 'N/A', 'error': False}, {'product_name': '살림/정리수납', 'price': '..'}, {'product_name': '집/인테리어', 'price': '..'}, {'product_name': '원예/조경/텃밭', 'price': '..'}, {'product_name': '건강 취미', 'price': '..'}, {'product_name': '다이어트/미용', 'price': '..'}, {'product_name': '요가/체조/기타', 'price': '..'}, {'product_name': '스포츠/오락', 'price': '..'}, {'product_name': '등산/낚시/바둑', 'price': '..'}, {'product_name': '건강정보', 'price': '..'}, {'product_name': '의학/약학', 'price': '..'}, {'product_name': '질병과 치료법', 'price': '..'}, {'product_name': '한의학/한방치료', 'price': '..'}, {'product_name': '컬러링북', 'price': '..'}, {'product_name': '공예/DIY', 'price': '..'}, {'product_name': '원예', 'price': '..'}, {'product_name': '패션/뷰티', 'price': '..'}, {'product_name': '퍼즐/스도쿠', 'price': '..'}, {'product_name': '더보기', 'price': '..'}, {'product_name': '경제 경영', 'price': '..'}, {'product_name': '경제', 'price': '..'}, {'product_name': '경영', 'price': '..'}, {'product_name': '마케팅/세일즈', 'price': '..'}, {'product_name': '투자/재테크', 'price': '..'}, {'product_name': '인터넷비즈니스', 'price': '..'}, {'product_name': '창업/취업/은퇴', 'price': '..'}, {'product_name': '성공스토리', 'price': '..'}, {'product_name': '경제/시사잡지', 'price': '..'}, {'product_name': '총람/간행물', 'price': '..'}, {'product_name': '과학/공학', 'price': '..'}, {'product_name': '기초과학/교양과학', 'price': '..'}, {'product_name': '과학자', 'price': '..'}, {'product_name': '뇌과학', 'price': '..'}, {'product_name': '의학/법의학', 'price': '..'}, {'product_name': '생명과학', 'price': '..'}, {'product_name': '화학', 'price': '..'}, {'product_name': '수학', 'price': '..'}, {'product_name': '물리', 'price': '..'}, {'product_name': '지구과학', 'price': '..'}, {'product_name': '천문학', 'price': '..'}, {'product_name': '인체', 'price': '..'}, {'product_name': '공학', 'price': '..'}, {'product_name': '농/축/수산학', 'price': '..'}, {'product_name': '더보기', 'price': '..'}, {'product_name': '국어/외국어/사전', 'price': '..'}, {'product_name': '국어', 'price': '..'}, {'product_name': '한자', 'price': '..'}, {'product_name': '영어', 'price': '..'}, {'product_name': '영어시험대비', 'price': '..'}, {'product_name': '일본어', 'price': '..'}, {'product_name': '중국어', 'price': '..'}, {'product_name': '중동/아랍어', 'price': '..'}, {'product_name': '독일어', 'price': '..'}, {'product_name': '프랑스어', 'price': '..'}, {'product_name': '이탈리아어', 'price': '..'}, {'product_name': '스페인어', 'price': '..'}, {'product_name': '러시아어', 'price': '..'}, {'product_name': '기타 동양어', 'price': '..'}, {'product_name': '더보기', 'price': '..'}, {'product_name': '대학교재', 'price': '..'}, {'product_name': '인문학 계열', 'price': '..'}, {'product_name': '어문학 계열', 'price': '..'}, {'product_name': '자연과학 계열', 'price': '..'}, {'product_name': '의약학/간호 계열', 'price': '..'}, {'product_name': '딸기/블루베리/베리류', 'price': '..'}, {'product_name': '바나나/오렌지/파인애플', 'price': '..'}, {'product_name': '자몽/레몬/라임/석류', 'price': '..'}, {'product_name': '망고/체리/아보카도/기타', 'price': '..'}, {'product_name': '냉동과일/간편과일', 'price': '..'}, {'product_name': '과일선물세트', 'price': '..'}, {'product_name': '축산/계란', 'price': '..'}, {'product_name': '소고기', 'price': '..'}, {'product_name': '돼지고기', 'price': '..'}, {'product_name': '닭/오리고기', 'price': '..'}, {'product_name': '양/말고기', 'price': '..'}, {'product_name': '기타 육고기', 'price': '..'}, {'product_name': '계란/알류/가공란', 'price': '..'}, {'product_name': '축산선물세트', 'price': '..'}, {'product_name': '채소', 'price': '..'}, {'product_name': '두부/콩나물', 'price': '..'}, {'product_name': '감자/고구마', 'price': '..'}, {'product_name': '당근/뿌리채소', 'price': '..'}, {'product_name': '오이/고추/열매채소', 'price': '..'}, {'product_name': '양파/마늘/파', 'price': '..'}, {'product_name': '배추/무/김장채소', 'price': '..'}, {'product_name': '시금치/나물/잎줄기채소', 'price': '..'}, {'product_name': '상추/깻잎/쌈채소', 'price': '..'}, {'product_name': '샐러드/손질채소', 'price': '..'}, {'product_name': '새송이/버섯류', 'price': '..'}, {'product_name': '인삼/건강차재료', 'price': '..'}, {'product_name': '기타채소', 'price': '..'}, {'product_name': '건나물/건채소', 'price': '..'}, {'product_name': '더보기', 'price': '..'}, {'product_name': '더보기', 'price': '..'}, {'product_name': '식품', 'price': '..'}, {'product_name': '주방용품', 'price': '..'}, {'product_name': '프리미엄 키친', 'price': '..'}, {'product_name': '과일선물세트', 'price': '..', 'error': False}, {'product_name': '베이커리', 'price': '..', 'error': False}, {'product_name': '정육/계란', 'price': '..', 'error': False}, {'product_name': '밀키트', 'price': '..', 'error': False}, {'product_name': '냉장/냉동/간편식', 'price': '..', 'error': False}, {'product_name': '델리/샐러드', 'price': '..', 'error': False}, {'product_name': '통조림/즉석밥/면', 'price': '..', 'error': False}, {'product_name': '수산/건어물', 'price': '..', 'error': False}, {'product_name': '김치/반찬', 'price': '..', 'error': False}, {'product_name': '쌀/잡곡', 'price': '..', 'error': False}, {'product_name': '유아식', 'price': '..', 'error': False}, {'product_name': '장/양념/소스', 'price': '..', 'error': False}, {'product_name': '간식/떡/빙과', 'price': '..', 'error': False}, {'product_name': '커피/음료', 'price': '..', 'error': False}, {'product_name': '우유/유제품', 'price': '..', 'error': False}, {'product_name': '채소', 'price': '..', 'error': False}, {'product_name': '건강식품', 'price': '..', 'error': False}, {'product_name': '생필품/꽃/반려동물', 'price': '..', 'error': False}, {'product_name': '선물세트', 'price': '..', 'error': False}, {'product_name': '아리당찬 100% 비파괴 당도선별 샤인머스캣, 1.5kg, 1팩', 'price': '16,400 원'}, {'product_name': '고산지 재배 당도선별 사과, 1.5kg(중과), 1봉', 'price': '15,630 원'}, {'product_name': '곰곰 미국산 네이블 오렌지, 1.2kg(중과), 1개', 'price': '5,940 원'}, {'product_name': '미국산 큐티 만다린, 2kg, 1팩', 'price': '14,950 원'}, {'product_name': '만나다 골드 파인애플, 1개, 900g', 'price': '2,720 원'}, {'product_name': '곰곰 대추방울토마토, 1kg, 1개', 'price': '9,980 원'}, {'product_name': '프레샤인 못난이사과, 3kg, 1개', 'price': '21,020 원'}, {'product_name': '한반도 쿠마토, 750g, 1팩', 'price': '5,760 원'}, {'product_name': '델몬트 허니글로우 파인스틱 6입, 540g, 1팩', 'price': '8,980 원'}, {'product_name': '제주 위미농협 당도선별 한라봉, 2kg(소과, 10~13입), 1개', 'price': '15,980 원'}, {'product_name': '델몬트 골드파인, 545g, 1개', 'price': '7,790 원'}, {'product_name': '하이프루츠 당도선별 의성 세척사과, 2kg(소과, 10~12입), 1개', 'price': '18,480 원'}, {'product_name': '스윗마토 스테비아 망고향 블랙대추방울토마토, 1kg, 1개', 'price': '12,300 원'}, {'product_name': '치키타 코스타리카산 바나나, 1개, 1.2kg 내외', 'price': '4,190 원'}, {'product_name': 'GAP 해풍맞은 올레길 당도선별 레드향, 1.5kg (중과,5~7입), 1박스', 'price': '13,670 원'}, {'product_name': '[쿠팡직수입] 프레시몬 오렌지 + 오렌지칼, 1.8kg(7~10입), 1개', 'price': '8,990 원'}, {'product_name': '스위티오 후레쉬컷 파인애플, 400g, 1개', 'price': '4,980 원'}, {'product_name': '곰곰 골드파인애플 스틱, 1kg, 1팩', 'price': '10,530 원'}, {'product_name': '완숙 토마토, 1kg, 1팩', 'price': '6,480 원'}, {'product_name': '고당도 카슈골드 오렌지 15~20입, 3.4kg, 1개', 'price': '15,340 원'}, {'product_name': '곰곰 국내산 딸기, 500g(대과), 1팩', 'price': '6,270 원'}, {'product_name': '곰곰 냉동 블루베리, 1kg, 1개', 'price': '10,430 원'}, {'product_name': '영주마실 빨간사과 못난이 가정용, 4.5kg(소과, 26~30입), 1박스', 'price': '25,010 원'}, {'product_name': '퓨어스펙 고당도 오렌지 중대과, 3kg(12~20입), 1봉', 'price': '13,930 원'}, {'product_name': '곰곰 스테비아 대추방울토마토, 500g, 1팩', 'price': '5,990 원'}, {'product_name': 'PSK 칠레산 블루베리, 125g, 1팩', 'price': '3,900 원'}, {'product_name': '세도농협 GAP 인증 대추방울토마토, 1kg, 1박스', 'price': '10,970 원'}, {'product_name': '쿠킹스토리 딸기 다이스, 10g, 1개', 'price': '2,500 원'}, {'product_name': '신세계푸드 에콰도르 달콤 바나나, 1개, 1.2kg 내외', 'price': '3,870 원'}, {'product_name': '성주 당도선별 참외, 1.2kg(4~5입), 1봉', 'price': '10,600 원'}, {'product_name': '스텔라나 베트남산 바나나, 1kg, 1개', 'price': '3,320 원'}, {'product_name': '스윗토 스테비아 대추방울토마토, 1.2kg, 1팩', 'price': '14,290 원'}, {'product_name': '성주 당도선별 미니참외, 2kg(8~12입), 1봉', 'price': '17,660 원'}, {'product_name': '돌 바나나, 1.2kg 내외, 1개', 'price': '3,980 원'}, {'product_name': '델몬트 클래식 바나나, 1.2kg 내외, 1팩', 'price': '4,280 원'}, {'product_name': '대추방울토마토, 500g, 1개', 'price': '5,800 원'}, {'product_name': '델몬트 파인애플, 400g, 1개', 'price': '5,380 원'}, {'product_name': '곰곰 당도선별 안동사과, 1kg, 1개', 'price': '8,800 원'}, {'product_name': '만나다 칠레 블루베리, 312g, 1팩', 'price': '6,940 원'}, {'product_name': '칠레 체리, 400g, 1개', 'price': '7,420 원'}, {'product_name': '곰곰 설향딸기, 500g(L), 1팩', 'price': '6,270 원'}, {'product_name': 'GAP 당도선별 거창사과, 1.5kg(중과), 1봉', 'price': '12,430 원'}, {'product_name': '스미후루 감숙왕 바나나, 1,200g, 1개', 'price': '4,740 원'}, {'product_name': '돌 후룻버킷 복숭아, 425g, 1개', 'price': '6,410 원'}, {'product_name': '곰곰 당도선별 세척사과 중과, 214g, 1개', 'price': '1,970 원'}]\n",
      "\n",
      "=== Token Usage Summary ===\n",
      "Type                   Count\n",
      "------------------------------\n",
      "Completion             4,827\n",
      "Prompt                75,970\n",
      "Total                 80,797\n",
      "\n",
      "=== Usage History ===\n",
      "Request #    Completion       Prompt        Total\n",
      "------------------------------------------------\n",
      "1                   800       10,904       11,704\n",
      "2                    96       10,512       10,608\n",
      "3                   453       10,947       11,400\n",
      "4                   800       10,974       11,774\n",
      "5                   800       11,411       12,211\n",
      "6                   278        3,517        3,795\n",
      "7                   800        9,187        9,987\n",
      "8                   800        8,518        9,318\n"
     ]
    }
   ],
   "source": [
    "class Product(BaseModel):\n",
    "    product_name: str = Field(\"..\", description=\"제품의 이름\")\n",
    "    price: str = Field(\"..\", description=\"제품의 가격\")\n",
    "\n",
    "\n",
    "async def main():\n",
    "    # 1. Define the LLM extraction strategy\n",
    "    llm_strategy = LLMExtractionStrategy(\n",
    "        llm_config=LLMConfig(\n",
    "            provider=\"openai/gpt-4o-mini\", api_token=os.getenv(\"OPENAI_API_KEY\")\n",
    "        ),\n",
    "        schema=Product.model_json_schema(),  # Or use model_json_schema()\n",
    "        extraction_type=\"schema\",\n",
    "        instruction=\"Extract all product objects with 'name' and 'price' from the content.\",\n",
    "        chunk_token_threshold=1000,\n",
    "        overlap_rate=0.0,\n",
    "        apply_chunking=True,\n",
    "        input_format=\"markdown\",  # or \"html\", \"fit_markdown\"\n",
    "        extra_args={\"temperature\": 0.0, \"max_tokens\": 800},\n",
    "    )\n",
    "\n",
    "    # 2. Build the crawler config\n",
    "    crawl_config = CrawlerRunConfig(\n",
    "        extraction_strategy=llm_strategy, cache_mode=CacheMode.BYPASS\n",
    "    )\n",
    "\n",
    "    # 3. Create a browser config if needed\n",
    "    browser_cfg = BrowserConfig(headless=True)\n",
    "\n",
    "    async with AsyncWebCrawler(config=browser_cfg) as crawler:\n",
    "        # 4. Let's say we want to crawl a single page\n",
    "        result = await crawler.arun(\n",
    "            url=\"https://www.coupang.com/np/categories/420186\", config=crawl_config\n",
    "        )\n",
    "\n",
    "        if result.success:\n",
    "            # 5. The extracted content is presumably JSON\n",
    "            data = json.loads(result.extracted_content)\n",
    "            print(\"Extracted items:\", data)\n",
    "\n",
    "            # 6. Show usage stats\n",
    "            llm_strategy.show_usage()  # prints token usage\n",
    "        else:\n",
    "            print(\"Error:\", result.error_message)\n",
    "\n",
    "\n",
    "if __name__ == \"__main__\":\n",
    "    asyncio.run(main())"
   ]
  },
  {
   "cell_type": "code",
   "execution_count": null,
   "metadata": {},
   "outputs": [],
   "source": [
    "# 필요한 플로우\n",
    "# 1. 사용자가 URL을 넣는다.\n",
    "# 2. 사용자가 URL을 넣으면, 관련 URL을의 html tag들을 가져온다. 가져온 URL을 document에 넣나?\n",
    "# 3. 사용자가 특정 부분을 요청하면 관련 부분을 가져오는 코드를 작성한다.\n",
    "# 4. 코드를 작성하면 그것을 실행시켜서 관련 부분을 가져온다."
   ]
  },
  {
   "cell_type": "code",
   "execution_count": null,
   "metadata": {},
   "outputs": [],
   "source": []
  }
 ],
 "metadata": {
  "kernelspec": {
   "display_name": "agentshop-uvHo4cAj-py3.12",
   "language": "python",
   "name": "python3"
  },
  "language_info": {
   "codemirror_mode": {
    "name": "ipython",
    "version": 3
   },
   "file_extension": ".py",
   "mimetype": "text/x-python",
   "name": "python",
   "nbconvert_exporter": "python",
   "pygments_lexer": "ipython3",
   "version": "3.12.7"
  }
 },
 "nbformat": 4,
 "nbformat_minor": 2
}
